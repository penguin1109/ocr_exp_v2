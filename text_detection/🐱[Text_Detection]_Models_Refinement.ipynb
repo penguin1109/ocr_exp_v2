{
  "nbformat": 4,
  "nbformat_minor": 0,
  "metadata": {
    "colab": {
      "provenance": [],
      "machine_shape": "hm"
    },
    "kernelspec": {
      "name": "python3",
      "display_name": "Python 3"
    },
    "language_info": {
      "name": "python"
    },
    "accelerator": "GPU",
    "gpuClass": "standard"
  },
  "cells": [
    {
      "cell_type": "markdown",
      "source": [
        "`(1) Testing the DBNet on Recipt Images`"
      ],
      "metadata": {
        "id": "gQFcayY2S7OX"
      }
    },
    {
      "cell_type": "code",
      "execution_count": null,
      "metadata": {
        "id": "zgMFLkNeku3H"
      },
      "outputs": [],
      "source": [
        "import os\n",
        "os.chdir('/content/drive/MyDrive/SpeakingFridgey/text_detection/DB')"
      ]
    },
    {
      "cell_type": "code",
      "source": [
        "!pip install -r requirement.txt"
      ],
      "metadata": {
        "id": "OUg-FwEpTTMI"
      },
      "execution_count": null,
      "outputs": []
    },
    {
      "cell_type": "code",
      "source": [
        "os.chdir('/content/drive/MyDrive/SpeakingFridgey/text_detection/DB/assets/ops/dcn')\n",
        "!python setup.py build_ext --inplace ## deformable convolution을 build하기 위함이다."
      ],
      "metadata": {
        "colab": {
          "base_uri": "https://localhost:8080/"
        },
        "id": "FkoOK02aTDAb",
        "outputId": "4608e257-2b68-4a86-bf2d-d109c6b89e2d"
      },
      "execution_count": null,
      "outputs": [
        {
          "output_type": "stream",
          "name": "stdout",
          "text": [
            "running build_ext\n",
            "/usr/local/lib/python3.8/dist-packages/torch/utils/cpp_extension.py:476: UserWarning: Attempted to use ninja as the BuildExtension backend but we could not find ninja.. Falling back to using the slow distutils backend.\n",
            "  warnings.warn(msg.format('we could not find ninja.'))\n",
            "/usr/local/lib/python3.8/dist-packages/torch/utils/cpp_extension.py:387: UserWarning: The detected CUDA version (11.2) has a minor version mismatch with the version that was used to compile PyTorch (11.6). Most likely this shouldn't be a problem.\n",
            "  warnings.warn(CUDA_MISMATCH_WARN.format(cuda_str_version, torch.version.cuda))\n",
            "building 'deform_conv_cuda' extension\n",
            "creating build/temp.linux-x86_64-3.8\n",
            "creating build/temp.linux-x86_64-3.8/src\n",
            "x86_64-linux-gnu-gcc -pthread -Wno-unused-result -Wsign-compare -DNDEBUG -g -fwrapv -O2 -Wall -g -fstack-protector-strong -Wformat -Werror=format-security -g -fwrapv -O2 -g -fstack-protector-strong -Wformat -Werror=format-security -Wdate-time -D_FORTIFY_SOURCE=2 -fPIC -I/usr/local/lib/python3.8/dist-packages/torch/include -I/usr/local/lib/python3.8/dist-packages/torch/include/torch/csrc/api/include -I/usr/local/lib/python3.8/dist-packages/torch/include/TH -I/usr/local/lib/python3.8/dist-packages/torch/include/THC -I/usr/local/cuda/include -I/usr/include/python3.8 -c src/deform_conv_cuda.cpp -o build/temp.linux-x86_64-3.8/src/deform_conv_cuda.o -DTORCH_API_INCLUDE_EXTENSION_H -DPYBIND11_COMPILER_TYPE=\"_gcc\" -DPYBIND11_STDLIB=\"_libstdcpp\" -DPYBIND11_BUILD_ABI=\"_cxxabi1011\" -DTORCH_EXTENSION_NAME=deform_conv_cuda -D_GLIBCXX_USE_CXX11_ABI=0 -std=c++14\n",
            "/usr/local/cuda/bin/nvcc -I/usr/local/lib/python3.8/dist-packages/torch/include -I/usr/local/lib/python3.8/dist-packages/torch/include/torch/csrc/api/include -I/usr/local/lib/python3.8/dist-packages/torch/include/TH -I/usr/local/lib/python3.8/dist-packages/torch/include/THC -I/usr/local/cuda/include -I/usr/include/python3.8 -c src/deform_conv_cuda_kernel.cu -o build/temp.linux-x86_64-3.8/src/deform_conv_cuda_kernel.o -D__CUDA_NO_HALF_OPERATORS__ -D__CUDA_NO_HALF_CONVERSIONS__ -D__CUDA_NO_BFLOAT16_CONVERSIONS__ -D__CUDA_NO_HALF2_OPERATORS__ --expt-relaxed-constexpr --compiler-options '-fPIC' -DTORCH_API_INCLUDE_EXTENSION_H -DPYBIND11_COMPILER_TYPE=\"_gcc\" -DPYBIND11_STDLIB=\"_libstdcpp\" -DPYBIND11_BUILD_ABI=\"_cxxabi1011\" -DTORCH_EXTENSION_NAME=deform_conv_cuda -D_GLIBCXX_USE_CXX11_ABI=0 -gencode=arch=compute_75,code=compute_75 -gencode=arch=compute_75,code=sm_75 -std=c++14\n",
            "creating build/lib.linux-x86_64-3.8\n",
            "x86_64-linux-gnu-g++ -pthread -shared -Wl,-O1 -Wl,-Bsymbolic-functions -Wl,-Bsymbolic-functions -Wl,-z,relro -g -fwrapv -O2 -Wl,-Bsymbolic-functions -Wl,-z,relro -g -fwrapv -O2 -g -fstack-protector-strong -Wformat -Werror=format-security -Wdate-time -D_FORTIFY_SOURCE=2 build/temp.linux-x86_64-3.8/src/deform_conv_cuda.o build/temp.linux-x86_64-3.8/src/deform_conv_cuda_kernel.o -L/usr/local/lib/python3.8/dist-packages/torch/lib -L/usr/local/cuda/lib64 -lc10 -ltorch -ltorch_cpu -ltorch_python -lcudart -lc10_cuda -ltorch_cuda_cu -ltorch_cuda_cpp -o build/lib.linux-x86_64-3.8/deform_conv_cuda.cpython-38-x86_64-linux-gnu.so\n",
            "building 'deform_pool_cuda' extension\n",
            "x86_64-linux-gnu-gcc -pthread -Wno-unused-result -Wsign-compare -DNDEBUG -g -fwrapv -O2 -Wall -g -fstack-protector-strong -Wformat -Werror=format-security -g -fwrapv -O2 -g -fstack-protector-strong -Wformat -Werror=format-security -Wdate-time -D_FORTIFY_SOURCE=2 -fPIC -I/usr/local/lib/python3.8/dist-packages/torch/include -I/usr/local/lib/python3.8/dist-packages/torch/include/torch/csrc/api/include -I/usr/local/lib/python3.8/dist-packages/torch/include/TH -I/usr/local/lib/python3.8/dist-packages/torch/include/THC -I/usr/local/cuda/include -I/usr/include/python3.8 -c src/deform_pool_cuda.cpp -o build/temp.linux-x86_64-3.8/src/deform_pool_cuda.o -DTORCH_API_INCLUDE_EXTENSION_H -DPYBIND11_COMPILER_TYPE=\"_gcc\" -DPYBIND11_STDLIB=\"_libstdcpp\" -DPYBIND11_BUILD_ABI=\"_cxxabi1011\" -DTORCH_EXTENSION_NAME=deform_pool_cuda -D_GLIBCXX_USE_CXX11_ABI=0 -std=c++14\n",
            "/usr/local/cuda/bin/nvcc -I/usr/local/lib/python3.8/dist-packages/torch/include -I/usr/local/lib/python3.8/dist-packages/torch/include/torch/csrc/api/include -I/usr/local/lib/python3.8/dist-packages/torch/include/TH -I/usr/local/lib/python3.8/dist-packages/torch/include/THC -I/usr/local/cuda/include -I/usr/include/python3.8 -c src/deform_pool_cuda_kernel.cu -o build/temp.linux-x86_64-3.8/src/deform_pool_cuda_kernel.o -D__CUDA_NO_HALF_OPERATORS__ -D__CUDA_NO_HALF_CONVERSIONS__ -D__CUDA_NO_BFLOAT16_CONVERSIONS__ -D__CUDA_NO_HALF2_OPERATORS__ --expt-relaxed-constexpr --compiler-options '-fPIC' -DTORCH_API_INCLUDE_EXTENSION_H -DPYBIND11_COMPILER_TYPE=\"_gcc\" -DPYBIND11_STDLIB=\"_libstdcpp\" -DPYBIND11_BUILD_ABI=\"_cxxabi1011\" -DTORCH_EXTENSION_NAME=deform_pool_cuda -D_GLIBCXX_USE_CXX11_ABI=0 -gencode=arch=compute_75,code=compute_75 -gencode=arch=compute_75,code=sm_75 -std=c++14\n",
            "x86_64-linux-gnu-g++ -pthread -shared -Wl,-O1 -Wl,-Bsymbolic-functions -Wl,-Bsymbolic-functions -Wl,-z,relro -g -fwrapv -O2 -Wl,-Bsymbolic-functions -Wl,-z,relro -g -fwrapv -O2 -g -fstack-protector-strong -Wformat -Werror=format-security -Wdate-time -D_FORTIFY_SOURCE=2 build/temp.linux-x86_64-3.8/src/deform_pool_cuda.o build/temp.linux-x86_64-3.8/src/deform_pool_cuda_kernel.o -L/usr/local/lib/python3.8/dist-packages/torch/lib -L/usr/local/cuda/lib64 -lc10 -ltorch -ltorch_cpu -ltorch_python -lcudart -lc10_cuda -ltorch_cuda_cu -ltorch_cuda_cpp -o build/lib.linux-x86_64-3.8/deform_pool_cuda.cpython-38-x86_64-linux-gnu.so\n",
            "copying build/lib.linux-x86_64-3.8/deform_conv_cuda.cpython-38-x86_64-linux-gnu.so -> \n",
            "copying build/lib.linux-x86_64-3.8/deform_pool_cuda.cpython-38-x86_64-linux-gnu.so -> \n"
          ]
        }
      ]
    },
    {
      "cell_type": "code",
      "source": [
        "!pip install loguru"
      ],
      "metadata": {
        "colab": {
          "base_uri": "https://localhost:8080/"
        },
        "id": "ZujXrHSDW06K",
        "outputId": "5f2a0ae5-13b3-45ed-c8bb-7a7293967a76"
      },
      "execution_count": null,
      "outputs": [
        {
          "output_type": "stream",
          "name": "stdout",
          "text": [
            "Looking in indexes: https://pypi.org/simple, https://us-python.pkg.dev/colab-wheels/public/simple/\n",
            "Collecting loguru\n",
            "  Downloading loguru-0.6.0-py3-none-any.whl (58 kB)\n",
            "\u001b[2K     \u001b[90m━━━━━━━━━━━━━━━━━━━━━━━━━━━━━━━━━━━━━━━━\u001b[0m \u001b[32m58.3/58.3 KB\u001b[0m \u001b[31m6.3 MB/s\u001b[0m eta \u001b[36m0:00:00\u001b[0m\n",
            "\u001b[?25hInstalling collected packages: loguru\n",
            "Successfully installed loguru-0.6.0\n"
          ]
        }
      ]
    },
    {
      "cell_type": "code",
      "source": [
        "os.chdir('/content/drive/MyDrive/SpeakingFridgey/text_detection/DB')\n",
        "!python my_demo.py experiments/seg_detector/ic15_resnet50_deform_thre.yaml --image_path=pretrained/recipt41.png --resume=pretrained/stres50 --visualize --box_thresh 0.6"
      ],
      "metadata": {
        "colab": {
          "base_uri": "https://localhost:8080/"
        },
        "id": "bhqZaZiqTN4M",
        "outputId": "33758697-7616-401a-8220-696e36321b6f"
      },
      "execution_count": null,
      "outputs": [
        {
          "output_type": "stream",
          "name": "stdout",
          "text": [
            "verbose: True\n",
            "Initializing log dir for workspace/SegDetectorModel-seg_detector/deformable_resnet50/L1BalanceCELoss\n",
            "\u001b[32m2023-02-04 13:28:02.034\u001b[0m | \u001b[1mINFO    \u001b[0m | \u001b[36mdata.image_dataset\u001b[0m:\u001b[36mget_all_samples\u001b[0m:\u001b[36m41\u001b[0m - \u001b[1m./datasets/icdar2015/\u001b[0m\n",
            "\u001b[32m2023-02-04 13:28:02.034\u001b[0m | \u001b[1mINFO    \u001b[0m | \u001b[36mdata.image_dataset\u001b[0m:\u001b[36mget_all_samples\u001b[0m:\u001b[36m42\u001b[0m - \u001b[1m./datasets/icdar2015/train_list.txt\u001b[0m\n",
            "\u001b[32m2023-02-04 13:28:02.036\u001b[0m | \u001b[1mINFO    \u001b[0m | \u001b[36mdata.image_dataset\u001b[0m:\u001b[36mget_all_samples\u001b[0m:\u001b[36m41\u001b[0m - \u001b[1m./datasets/icdar2015/\u001b[0m\n",
            "\u001b[32m2023-02-04 13:28:02.036\u001b[0m | \u001b[1mINFO    \u001b[0m | \u001b[36mdata.image_dataset\u001b[0m:\u001b[36mget_all_samples\u001b[0m:\u001b[36m42\u001b[0m - \u001b[1m./datasets/icdar2015/test_list.txt\u001b[0m\n",
            "Resuming from pretrained/stres50\n",
            "Resumed from pretrained/stres50\n",
            "\u001b[32m2023-02-04 13:28:06.802\u001b[0m | \u001b[1mINFO    \u001b[0m | \u001b[36m__main__\u001b[0m:\u001b[36minference\u001b[0m:\u001b[36m149\u001b[0m - \u001b[1mVISUALIZING\u001b[0m\n"
          ]
        }
      ]
    },
    {
      "cell_type": "code",
      "source": [
        "!CUDA_VISIBLE_DEVICES=0 python train.py experiments/my_detector/base_fridgey.yaml"
      ],
      "metadata": {
        "id": "Lbpnqu7QWwh4"
      },
      "execution_count": null,
      "outputs": []
    },
    {
      "cell_type": "markdown",
      "source": [
        "![recipt41.jpg](data:image/jpeg;base64,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)"
      ],
      "metadata": {
        "id": "on_n0Gf2nkIM"
      }
    },
    {
      "cell_type": "markdown",
      "source": [
        "``` DBNet과 같은 Segmentation Based Text Detection의 문제\n",
        "- 물론 데이터셋을 직접 모아서 학습을 시킨다면 다를수도 있겠으나\n",
        "  -> 문제는 annotation정보가 정확한 document OCR dataset이 충분하지 않다는 것이다.\n",
        "- 따라서 우리에게 제일 중요한 수량 정보가 오히려 인식이 잘 되지 않고, 즉 small text detection이 상대적으로 어려움을 알 수 있다.\n",
        "-> 따라서 우선은 SROIE 데이터셋을 사용해서 CTPN을 추가적으로, 내가 원하는 대로 학습을 시켜보고자 한다.\n",
        "  - 무조건 refinement stage를 추가할 생각이다.\n",
        "- 특히나 CTPN의 경우에는 HORIZONTAL TEXT DETECTION에 매우 강한 성능을 보인다.\n",
        "```"
      ],
      "metadata": {
        "id": "pySZ2t81oBRj"
      }
    },
    {
      "cell_type": "markdown",
      "source": [
        "`CONFIG File for Training CTPN`"
      ],
      "metadata": {
        "id": "QTSjhngx1083"
      }
    },
    {
      "cell_type": "code",
      "source": [
        "class ANCHOR_CFG(object):\n",
        "  def __init__(self):\n",
        "    self.FEATURE_STRIDE=16\n",
        "    self.ANCHOR_SHIFT=16\n",
        "    self.POSITIVE_LABEL=1\n",
        "    self.NEGATIVE_LABEL=0\n",
        "    self.IGNORE_LABEL=-1\n",
        "    self.ANCHOR_N=12\n",
        "    self.ANCHOR_HEIGHTS=[\n",
        "        6, 11, 16, 27, 39, 52, 66, 81, 97, 115, 134, 154\n",
        "    ]\n",
        "    assert len(self.ANCHOR_HEIGHTS) == self.ANCHOR_N\n",
        "    \n",
        "    # -> 여기부터는 Anchor Generate하는 과정이다.\n",
        "    self.POS_IOU_THRESH=0.5 # 0.7\n",
        "    self.NEG_IOU_THRESH=0.3 # 0.5\n",
        "    self.TRAINING_ANCHOR_N=128 # pos : neg = 1 : 1로 선정을 해서 학습시 matching anchor을 지정한다.\n",
        "\n",
        "    # -> 여기부터는 예측을 바탕으로 preditcion box만들 때 사용\n",
        "    self.CONFIDENCE_SCORE=0.8 # 해당 점수보다 text predict score이 높으면 text 영역으로 간주한다.\n",
        "    self.VERTICAL_OVERLAP=0.7 # width가 다른 anchor과 thresh보다 많이 겹치면 같은 text line으로 간주한다.\n",
        "    self.MAX_HORI_GAP=20 # 이웃 anchor과 떨어진 거리가 20보다 적으면 같은 text line으로 간주한다.\n",
        "    self.MIN_SIZE_SIM=0.7 # 이웃 anchor과 IoU score이 0.7보다 크거나 같으면 같은 text line으로 간주한다.\n",
        "    self.NMS_THRESH=0.3 # 만들어진 predicted text line과 IoU가 0.3보다 크면 제거한다.\n"
      ],
      "metadata": {
        "id": "QawXEDO-4RER"
      },
      "execution_count": 85,
      "outputs": []
    },
    {
      "cell_type": "markdown",
      "source": [
        "`(2) CTPN Anchor Generation`"
      ],
      "metadata": {
        "id": "2nUatcxcmVo2"
      }
    },
    {
      "cell_type": "code",
      "source": [
        "import numpy as np\n",
        "\n",
        "class AnchorGenerator(object):\n",
        "  def __init__(self, anchor_cfg):\n",
        "    super(AnchorGenerator, self).__init__()\n",
        "    self.anchor_cfg = anchor_cfg\n",
        "    self.anchor_matcher = AnchorMatcher(anchor_cfg)\n",
        "\n",
        "  def __call__(self, image_size, gt_boxes, return_anchors):\n",
        "    H, W = image_size\n",
        "    anchor_shift = self.anchor_cfg.ANCHOR_SHIFT\n",
        "\n",
        "    feature_map_size = [int(np.ceil(H / anchor_shift)), int(np.ceil(W / anchor_shift))]\n",
        "    anchor_boxes = self.generate_all_anchors(feature_map_size)\n",
        "    matches = self.anchor_matcher(image_size, anchor_boxes=torch.as_tensor(anchor_boxes, device=torch.device('cpu')), gt_boxes = gt_boxes)\n",
        "\n",
        "    if return_anchors:\n",
        "      return matches + (anchor_boxes,)\n",
        "    else:\n",
        "      return matches\n",
        "\n",
        "\n",
        "  def generate_anchors(self):\n",
        "    anchor_heights = self.anchor_cfg.ANCHOR_HEIGHTS # list\n",
        "    anchor_shift = self.anchor_cfg.ANCHOR_SHIFT # 이건 결국 anchor각가의 너비와 같다 (constant value를 사용함)\n",
        "    basis_anchor = np.array([0, 0, anchor_shift- 1, anchor_shift-1], np.float32)\n",
        "    heights = np.array(anchor_heights, dtype=np.float32)\n",
        "    widths = np.ones(len(heights), dtype=np.float32) * anchor_shift\n",
        "    sizes = np.column_stack((heights, widths))\n",
        "\n",
        "    basic_anchors = []\n",
        "    for n in range(len(anchor_heights)):\n",
        "      H, W = sizes[n][0], sizes[n][1]\n",
        "      scaled_anchor = basis_anchor.copy()\n",
        "      center_x, center_y = (basis_anchor[0] + basis_anchor[2]) / 2., (basis_anchor[1] + basis_anchor[3]) / 2.\n",
        "      scaled_anchor[0] = center_x - W / 2.\n",
        "      scaled_anchor[1] = center_y - H / 2.\n",
        "      scaled_anchor[2] = center_x + W / 2.\n",
        "      scaled_anchor[3] = center_y + H / 2.\n",
        "\n",
        "      basic_anchors.append(scaled_anchor)\n",
        "    return np.array(basic_anchors)\n",
        "  \n",
        "  def generate_all_anchors(self, feature_map_size):\n",
        "    basis_anchors = self.generate_anchors()\n",
        "    anchor_n = basis_anchors.shape[0]\n",
        "\n",
        "    feature_stride = self.anchor_cfg.FEATURE_STRIDE\n",
        "    feat_map_h, feat_map_w = feature_map_size\n",
        "    all_anchors = np.zeros(\n",
        "        shape=(anchor_n * feat_map_h * feat_map_w, 4),\n",
        "        dtype = np.float32\n",
        "    )\n",
        "    print(f\"ANCHOR_N : {all_anchors.shape[0]}\")\n",
        "    index = 0\n",
        "    for y in range(feat_map_h):\n",
        "      for x in range(feat_map_w):\n",
        "        shift = np.array([x, y, x, y]) * feature_stride\n",
        "        all_anchors[index:index+anchor_n, :] = basis_anchors + shift\n",
        "        index += anchor_n\n",
        "\n",
        "    return all_anchors"
      ],
      "metadata": {
        "id": "IXNamuKwmZyv"
      },
      "execution_count": 80,
      "outputs": []
    },
    {
      "cell_type": "code",
      "source": [
        "def order_point_clockwise(bboxes: np.ndarray) -> np.ndarray:\n",
        "    \"\"\"\n",
        "    Order in clockwise the bounding box coordinates.\n",
        "    Args:\n",
        "        bboxes (numpy.ndarray): A numpy array containing the bounding box coordinates. Shape: [4, 2].\n",
        "    Returns:\n",
        "        An ordered clockwise bounding box.\n",
        "    \"\"\"\n",
        "    if bboxes.ndim != 2 and bboxes.shape != (4, 2):\n",
        "        raise ValueError(\"The bounding box coordinates are not in the correct shape!\"\n",
        "                         \"It must be an numpy array of 2D whose shape is (4, 2).\")\n",
        "\n",
        "    # sort the points based on their x-coordinates\n",
        "    xSorted = bboxes[np.argsort(bboxes[:, 0]), :]\n",
        "\n",
        "    # grab the left-most and right-most points from the sorted\n",
        "    # x-coordinate points\n",
        "    leftMost = xSorted[:2, :]\n",
        "    rightMost = xSorted[2:, :]\n",
        "\n",
        "    # now, sort the left-most coordinates according to their\n",
        "    # y-coordinates, so we can grab the top-left and bottom-left\n",
        "    # points, respectively\n",
        "    leftMost = leftMost[np.argsort(leftMost[:, 1]), :]\n",
        "    (top_left, bottom_left) = leftMost\n",
        "\n",
        "    # now, sort the right-most coordinates according to their\n",
        "    # y-coordinates, so we can grab the top-right and bottom-right\n",
        "    # points, respectively\n",
        "    rightMost = rightMost[np.argsort(rightMost[:, 1]), :]\n",
        "    (top_right, bottom_right) = rightMost\n",
        "\n",
        "    # return the coordinates in this following order: top-left, top-right, bottom-right, and bottom-left\n",
        "    return np.array([top_left, top_right, bottom_right, bottom_left])\n",
        "\n",
        "def to_xy_min_max(bboxes: np.ndarray) -> List[int]:\n",
        "    \"\"\"\n",
        "    Convert one bounding box whose form is: [x1, y1, x2, y2, x3, y3, x4, y4]\n",
        "    into a box of form (xmin, ymin, xmax, ymax)\n",
        "    Args:\n",
        "        bboxes (numpy.ndarray): A numpy array containing the bounding box 8-coordinates.\n",
        "    Returns:\n",
        "        A list containing the bounding box 4-coordinates.\n",
        "    \"\"\"\n",
        "\n",
        "    if len(bboxes) != 8:\n",
        "        raise NotImplementedError(\"The bounding box coordinates must a length of 8!\")\n",
        "\n",
        "    Xs = bboxes[0::2]\n",
        "    Ys = bboxes[1::2]\n",
        "\n",
        "    xmin = int(round(np.min(Xs, 0)))\n",
        "    ymin = int(round(np.min(Ys, 0)))\n",
        "    xmax = int(round(np.max(Xs, 0)))\n",
        "    ymax = int(round(np.max(Ys, 0)))\n",
        "\n",
        "    final_boxes = [xmin, ymin, xmax, ymax]\n",
        "\n",
        "    return final_boxes\n",
        "\n",
        "\n",
        "def generate_gtboxes(txt_path, rescale_factor=1.0):\n",
        "  gtboxes=[]\n",
        "  with open(txt_path, 'r') as f:\n",
        "    base_gtboxes = f.readlines()\n",
        "    for line in base_gtboxes:\n",
        "      coor_list = line.split(',')[:8]\n",
        "      bbox = order_point_clockwise(np.array(list(map(np.float32, coor_list))).reshape((4, 2)))\n",
        "      if cv2.arcLength(bbox, True) > 0:\n",
        "        bbox = np.array(to_xy_min_max(bbox.flatten()))\n",
        "        gtboxes.append(bbox)\n",
        "  return np.array(gtboxes)\n",
        "\n",
        "if __name__ == \"__main__\":\n",
        "  import cv2, math\n",
        "  box_dir = '/content/drive/MyDrive/SpeakingFridgey/SROIE2019/train/box/X00016469619.txt' #  '/content/drive/MyDrive/SpeakingFridgey/SROIE2019/train/box/X00016469612.txt' #\n",
        "  img_dir = '/content/drive/MyDrive/SpeakingFridgey/SROIE2019/train/img/X00016469619.jpg' # '/content/drive/MyDrive/SpeakingFridgey/SROIE2019/train/img/X00016469612.jpg' # \n",
        "  with open(box_dir, 'r') as f:\n",
        "    box_data = f.readlines()\n",
        "  img = cv2.imread(img_dir)\n",
        "  h, w,c = img.shape\n",
        "  gt_boxes = generate_gtboxes(box_dir, rescale_factor=1.0)\n",
        "  \n",
        "  gt_boxes = torch.from_numpy(gt_boxes).float()\n",
        "  img = cv2.resize(img, (1024, 2048))\n",
        "  resize_w = 1024\n",
        "  resize_h = 2048\n",
        "  rescale_w = w / resize_w\n",
        "  rescale_h = h / resize_h\n",
        "  print(rescale_w, rescale_h)\n",
        "\n",
        "  for box in gt_boxes:\n",
        "    x1 = math.ceil(box[0] /rescale_w)\n",
        "    x2 = math.floor(box[2] / rescale_w)\n",
        "    y1 = math.ceil(box[1] / rescale_h)\n",
        "    y2 = math.floor(box[3] / rescale_h)\n",
        "    img=cv2.rectangle(img, (x1, y1), (x2, y2), 255, 3)\n",
        "  plt.imshow(img)"
      ],
      "metadata": {
        "colab": {
          "base_uri": "https://localhost:8080/",
          "height": 286
        },
        "id": "8ZE1I6iX75fw",
        "outputId": "892a2c0f-35be-46d4-d22a-b1ee95caef8f"
      },
      "execution_count": 150,
      "outputs": [
        {
          "output_type": "stream",
          "name": "stdout",
          "text": [
            "0.4287109375 0.490234375\n"
          ]
        },
        {
          "output_type": "display_data",
          "data": {
            "text/plain": [
              "<Figure size 432x288 with 1 Axes>"
            ],
            "image/png": "[encoded data removed]"
          },
          "metadata": {
            "needs_background": "light"
          }
        }
      ]
    },
    {
      "cell_type": "code",
      "source": [
        "print(len(torch.where(b[1] == 0)[0]))"
      ],
      "metadata": {
        "colab": {
          "base_uri": "https://localhost:8080/"
        },
        "id": "UJy-Rbc06yE-",
        "outputId": "d2c600e7-55a4-4c8a-d9a0-7347d03ca699"
      },
      "execution_count": 82,
      "outputs": [
        {
          "output_type": "stream",
          "name": "stdout",
          "text": [
            "48335\n"
          ]
        }
      ]
    },
    {
      "cell_type": "code",
      "source": [
        "1000/16"
      ],
      "metadata": {
        "colab": {
          "base_uri": "https://localhost:8080/"
        },
        "id": "UW24nwLqLyyJ",
        "outputId": "e71c5827-dea0-415f-b637-a9c0daaacc88"
      },
      "execution_count": 48,
      "outputs": [
        {
          "output_type": "execute_result",
          "data": {
            "text/plain": [
              "62.5"
            ]
          },
          "metadata": {},
          "execution_count": 48
        }
      ]
    },
    {
      "cell_type": "code",
      "source": [
        "1024/16"
      ],
      "metadata": {
        "colab": {
          "base_uri": "https://localhost:8080/"
        },
        "id": "kD3AjvKzL0QE",
        "outputId": "fd2fc2a5-c130-4ebd-8e9a-9f6ee1c7509a"
      },
      "execution_count": 49,
      "outputs": [
        {
          "output_type": "execute_result",
          "data": {
            "text/plain": [
              "64.0"
            ]
          },
          "metadata": {},
          "execution_count": 49
        }
      ]
    },
    {
      "cell_type": "code",
      "source": [
        "12 * 63 * 64"
      ],
      "metadata": {
        "colab": {
          "base_uri": "https://localhost:8080/"
        },
        "id": "5QPVsYuGL1Xl",
        "outputId": "41622cf9-02e7-4a11-c6c8-68e1b935687e"
      },
      "execution_count": 50,
      "outputs": [
        {
          "output_type": "execute_result",
          "data": {
            "text/plain": [
              "48384"
            ]
          },
          "metadata": {},
          "execution_count": 50
        }
      ]
    },
    {
      "cell_type": "code",
      "source": [
        "torch.where(b[1] == 1)[0].shape"
      ],
      "metadata": {
        "colab": {
          "base_uri": "https://localhost:8080/"
        },
        "id": "bE-k4oaV4noL",
        "outputId": "83533f94-851e-486b-9386-c52cc392bf66"
      },
      "execution_count": 46,
      "outputs": [
        {
          "output_type": "execute_result",
          "data": {
            "text/plain": [
              "torch.Size([339])"
            ]
          },
          "metadata": {},
          "execution_count": 46
        }
      ]
    },
    {
      "cell_type": "code",
      "source": [
        "b[0][:, :2] ## ((c_y - c_y_anchor) / h_anchor, log(h / h_anchor), offset)"
      ],
      "metadata": {
        "colab": {
          "base_uri": "https://localhost:8080/"
        },
        "id": "iKrPaKdGy6V-",
        "outputId": "86bb6f7d-21d1-4b7f-da86-1f2fd78e8948"
      },
      "execution_count": 48,
      "outputs": [
        {
          "output_type": "execute_result",
          "data": {
            "text/plain": [
              "tensor([[ 6.1667,  1.8718],\n",
              "        [ 3.3636,  1.2657],\n",
              "        [ 2.3125,  0.8910],\n",
              "        ...,\n",
              "        [-8.4435, -1.0814],\n",
              "        [-7.2463, -1.2343],\n",
              "        [-6.3052, -1.3734]])"
            ]
          },
          "metadata": {},
          "execution_count": 48
        }
      ]
    },
    {
      "cell_type": "code",
      "source": [
        "sample = torch.Tensor(b[:10])\n",
        "sample = torch.unsqueeze(sample, dim=1)\n",
        "sample.shape"
      ],
      "metadata": {
        "colab": {
          "base_uri": "https://localhost:8080/"
        },
        "id": "k8muEdhX40en",
        "outputId": "2d8e9d2b-1fcf-414a-f7b5-997d882b90d7"
      },
      "execution_count": null,
      "outputs": [
        {
          "output_type": "execute_result",
          "data": {
            "text/plain": [
              "torch.Size([10, 1, 4])"
            ]
          },
          "metadata": {},
          "execution_count": 13
        }
      ]
    },
    {
      "cell_type": "code",
      "source": [
        "print(b.shape) ## 총 anchor의 개수 -> (left x, top y, right x, bottom y)"
      ],
      "metadata": {
        "colab": {
          "base_uri": "https://localhost:8080/"
        },
        "id": "esEChyP2ygk9",
        "outputId": "4757c3e1-2a08-4559-b16f-44008813240e"
      },
      "execution_count": null,
      "outputs": [
        {
          "output_type": "stream",
          "name": "stdout",
          "text": [
            "(21504, 4)\n"
          ]
        }
      ]
    },
    {
      "cell_type": "markdown",
      "source": [
        "`(3) CTPN Anchor & GTBox Matching`  \n",
        "\n",
        "$IoU = Intersection / Union$"
      ],
      "metadata": {
        "id": "V7pZOTpXu0eC"
      }
    },
    {
      "cell_type": "code",
      "source": [
        "import torch\n",
        "import torch.nn as nn\n",
        "\n",
        "class AnchorMatcher(object):\n",
        "  def __init__(self, anchor_cfg):\n",
        "    super().__init__()\n",
        "    self.anchor_cfg = anchor_cfg\n",
        "    self.positive_label = self.anchor_cfg.POSITIVE_LABEL\n",
        "    self.negative_label = self.anchor_cfg.NEGATIVE_LABEL\n",
        "    self.ignore_label = self.anchor_cfg.IGNORE_LABEL\n",
        "    self.pos_iou_thresh = self.anchor_cfg.POS_IOU_THRESH\n",
        "    self.neg_iou_thresh = self.anchor_cfg.NEG_IOU_THRESH\n",
        "\n",
        "  def compute_iou_score(self, anchor_boxes, gt_boxes):\n",
        "    \"\"\"Args\n",
        "    anchor_boxes: [#anchor, 1, 4]\n",
        "    gt_boxes: [1, #gt, 4]\n",
        "    \"\"\"\n",
        "    intersection = self.compute_intersection(anchor_boxes, gt_boxes)\n",
        "    anchor_box_area = (anchor_boxes[..., 2] - anchor_boxes[..., 0] + 1.) * (anchor_boxes[..., 3] - anchor_boxes[..., 1] + 1.)\n",
        "    gt_box_area = (gt_boxes[..., 2] - gt_boxes[..., 0] + 1.) * (gt_boxes[..., 3] - gt_boxes[..., 1] + 1.)\n",
        "    union = anchor_box_area + gt_box_area - intersection\n",
        "\n",
        "    return (intersection) / (union + 1e-6)\n",
        "\n",
        "\n",
        "\n",
        "  def compute_intersection(self, anchor_boxes, gt_boxes):\n",
        "    \"\"\"\n",
        "    모든 anchor box와 gt box사이의 IoU를 구해야 하기 때문에 [#anchor, #gt]의 크기로 값을 구해야 한다.\n",
        "    \"\"\"\n",
        "    n_anchor = anchor_boxes.shape[0]\n",
        "    n_box = gt_boxes.shape[1]\n",
        "    overlap_top_left = torch.maximum(\n",
        "        anchor_boxes[..., :2], gt_boxes[...,:2]\n",
        "    )\n",
        "    overlap_bottom_right = torch.minimum(\n",
        "        anchor_boxes[..., 2:], gt_boxes[..., 2:]\n",
        "    )\n",
        "    diff = overlap_bottom_right - overlap_top_left\n",
        "    max_ = torch.maximum(diff, torch.as_tensor(0.0, device = gt_boxes.device))\n",
        "    intersection = max_[..., 0] * max_[..., 1]\n",
        "\n",
        "    return intersection\n",
        "\n",
        "  def box_encode(self, matched_gt_boxes, anchor_boxes):\n",
        "    \"\"\" Args\n",
        "    matched_gt_boxes: [#box, 4]\n",
        "    anchor_boxes: [#anchor, 4]\n",
        "    \"\"\"\n",
        "    h =matched_gt_boxes[:, 3] - matched_gt_boxes[:, 1]\n",
        "    ha = anchor_boxes[:, 3] - anchor_boxes[:, 1]\n",
        "    c = (matched_gt_boxes[:, 3] + matched_gt_boxes[:, 1]) / 2. # matched_gt_boxes[:, 1] + h/2\n",
        "    ca = (anchor_boxes[:, 3] + anchor_boxes[:, 1]) / 2. # anchor_boxes[:, 1] + ha/2\n",
        "    cxa = (anchor_boxes[:, 0]+anchor_boxes[:, 2]) / 2.\n",
        "\n",
        "    wa = self.anchor_cfg.ANCHOR_SHIFT\n",
        "    def check_min_dist(a, b, c, d):\n",
        "      min_dist = torch.tensor(10000.)\n",
        "      for dist in ([a, b, c, d]):\n",
        "        if torch.abs(min_dist) > torch.abs(dist):\n",
        "          min_dist = dist\n",
        "      return torch.unsqueeze(min_dist, 0)\n",
        "    # 각각의 gt box는 anchor box와 연결이 되어 있음\n",
        "    xside = torch.stack([\n",
        "        check_min_dist(matched_gt[0] - anchor[0], matched_gt[2] - anchor[0], \\\n",
        "        matched_gt[0] - anchor[2], matched_gt[2] - anchor[2]) for (matched_gt, anchor) in zip(matched_gt_boxes, anchor_boxes)], dim=1)\n",
        "    # xside, _ = torch.min(xside, dim=1)\n",
        "    xside = torch.squeeze(xside, 0)\n",
        "    \n",
        "    Vc = (c - ca) / ha\n",
        "    Vh = torch.log(h / ha)\n",
        "    O = (xside - cxa) / wa\n",
        "\n",
        "    bbox = torch.stack([Vc, Vh, O], dim=1)\n",
        "\n",
        "    return bbox\n",
        "\n",
        "\n",
        "  def __call__(self, image_size, anchor_boxes, gt_boxes):\n",
        "    \"\"\" Args\n",
        "    image_size: (H, W)의 tuple\n",
        "    anchor_boxes: [# anchor, 4]\n",
        "    gt_boxes: [#gt box, 4] -> 얘도 역시나 (left x, top y, right x, bottom y)로 정의\n",
        "    \"\"\"\n",
        "    IoU = self.compute_iou_score(torch.unsqueeze(anchor_boxes, dim=1), gt_boxes=torch.unsqueeze(gt_boxes, dim=0))\n",
        "    device = gt_boxes.device\n",
        "    n_gt_boxes = IoU.size(1)\n",
        "    # print(n_gt_boxes)\n",
        "    anchor_labels = torch.full(size = (anchor_boxes.shape[0], ), fill_value = self.ignore_label, dtype = torch.int64)\n",
        "    _, best_anchor_for_each_target_index = torch.max(IoU, dim=0, keepdim=False)\n",
        "\n",
        "    best_target_for_each_anchor, best_target_for_each_anchor_index = torch.max(IoU, dim=1) # 각 anchor에 대해서 제일 높은 IoU를 (그나마도) 갖는 gt box와의 IoU, 그리고 gt box의 index\n",
        "    best_target_for_each_anchor_index[best_anchor_for_each_target_index] = torch.arange(n_gt_boxes)\n",
        "\n",
        "    best_target_for_each_anchor[best_anchor_for_each_target_index] = self.positive_label\n",
        "\n",
        "    anchor_labels = anchor_labels[best_target_for_each_anchor_index] ## 각 gt box와 제일 높은 IoU를 갖는 anchor box가 positive\n",
        "    anchor_labels[best_target_for_each_anchor > self.pos_iou_thresh] = self.positive_label ## gt box와 pos_thresh를 넘는 IoU를 갖는 anchor box가 positive\n",
        "    anchor_labels[best_target_for_each_anchor < self.neg_iou_thresh] = self.negative_label\n",
        "    \n",
        "    img_h, img_w = image_size\n",
        "\n",
        "    out_bound_anchors = torch.where( \n",
        "        (anchor_boxes[:, 0] < 0) | (anchor_boxes[:, 2] > img_w) | (anchor_boxes[:, 1] < 0) | (anchor_boxes[:, 3] > img_h) \n",
        "    )[0]\n",
        "\n",
        "    gt_boxes = gt_boxes.squeeze(0)\n",
        "    matched_gt_bboxes = gt_boxes[best_target_for_each_anchor_index]\n",
        "    bbox_targets = self.box_encode(matched_gt_bboxes, anchor_boxes)\n",
        "\n",
        "    output = (bbox_targets, anchor_labels)\n",
        "\n",
        "    return output\n",
        "\n"
      ],
      "metadata": {
        "id": "2BDJzAjZu5UX"
      },
      "execution_count": 202,
      "outputs": []
    },
    {
      "cell_type": "markdown",
      "source": [
        "`(4) CTPN Text Connector`"
      ],
      "metadata": {
        "id": "DrYEyjMqJcTO"
      }
    },
    {
      "cell_type": "code",
      "source": [
        "import numpy as np\n",
        "from typing import Tuple, List\n",
        "import os, sys\n",
        "\n",
        "def fit_y(X, Y, x1, x2):\n",
        "  if np.sum(X == X[0]) == len(X):\n",
        "    return Y[0], Y[0]\n",
        "  p = np.poly1d(np.polyfit(X, Y, 1))\n",
        "  return p(x1), p(x2)\n",
        "\n",
        "class Graph:\n",
        "  def __init__(self, graph):\n",
        "    self.graph = graph\n",
        "\n",
        "  def sub_graphs_connected(self):\n",
        "    sub_graphs = []\n",
        "    for idx in range(self.graph.shape[0]):\n",
        "      if not self.graph[:, idx].any() and self.graph[idx, :].any():\n",
        "        v = idx\n",
        "        sub_graphs.append([v])\n",
        "        while self.graph[v, :].any():\n",
        "          v = np.where(self.graph[v, :])[0][0]\n",
        "          sub_graphs[-1].append(v)\n",
        "    return sub_graphs\n",
        "\n",
        "class TextProposalGraphBuilder(object):\n",
        "  def __init__(self, anchor_cfg):\n",
        "    self.anchor_cfg = anchor_cfg\n",
        "    self.vertical_overlap = anchor_cfg.VERTICAL_OVERLAP\n",
        "    self.min_size_sim = anchor_cfg.MIN_SIZE_SIM\n",
        "    self.max_hori_gap = anchor_cfg.MAX_HORI_GAP\n",
        "  \n",
        "  def get_successions(self, idx):\n",
        "    \"\"\" Args\n",
        "    idx: 현재 vertex의 인덱스\n",
        "    현재 탐색중인 text proposal과 같은 text line에 속하는 다른 text proposal을 찾는다.\n",
        "    \"\"\"\n",
        "    current_box = self.text_proposals[idx]\n",
        "    results = [] ## 같은 text line에 속하는 proposal의 index를 저장해서 return한다.\n",
        "    # 현재 탐색중인 text proposal의 왼쪽 끝 x좌표부터 같은 text line에 속할 수 있는 최대 x방향 거리를 더한 값까지 (단, 이미지의 가로 길이를 넘으면 안됨)\n",
        "    for left in range(int(current_box[0])-1, max(int(current_box[0]) + self.max_hori_gap+1, self.image_size[1])):\n",
        "      neighbor_box_indices = self.boxes_table[left] # 해당 x축이 왼쪽 x끝인 text proposal들\n",
        "      for neighbor_box_index in neighbor_box_indices:\n",
        "        if self.meet_v_iou(neighbor_box_index, idx):\n",
        "          results.append(neighbor_box_index)\n",
        "        if len(results) != 0:\n",
        "          return results\n",
        "    return results\n",
        "\n",
        "  def meet_v_iou(self, neighbor_box_index, idx):\n",
        "    neighbor_box = self.text_proposals[neighbor_box_index]\n",
        "    curr_box = self.text_proposals[idx]\n",
        "    def check_vertical_overlap(neighbor_box, curr_box):\n",
        "      neighbor_h = neighbor_box[3] - neighbor_box[1] + 1\n",
        "      curr_h = curr_box[3] - curr_box[1] + 1\n",
        "      y0 = max(curr_box[1], neighbor_box[1])\n",
        "      y1 = min(neighbor_box[3], curr_box[3])\n",
        "      return max(0, y1-y0+1) / min(neighbor_h, curr_h)\n",
        "    \n",
        "    def check_size_similarity(neighbor_box_index, idx):\n",
        "      h1 = self.heights[neighbor_box_index]\n",
        "      h2 = self.heights[idx]\n",
        "      return min(h1, h2) / max(h1, h2)\n",
        "  \n",
        "    return check_vertical_overlap(neighbor_box, curr_box) >= self.vertical_overlap and check_size_similarity(neighbor_box_index, idx) >= self.min_size_sim\n",
        "  \n",
        "  def is_succession_node(self, idx, succession_index):\n",
        "    presursors = self.get_precusors(succession_index)\n",
        "    if self.scores[idx] >= np.max(self.scores[presursors]):\n",
        "      return True\n",
        "    return False\n",
        "\n",
        "  def build_graph(self, text_proposals, scores, image_size):\n",
        "    self.text_proposals = text_proposals\n",
        "    self.scores = scores\n",
        "    self.image_size = image_size\n",
        "    self.heights = text_proposals[:, 3] - text_proposals[:, 1] + 1 ## 모델의 output을 decoding을 해서 (x1, y1, x2, y2)로 바꿔준게 text_proposals이다.\n",
        "    boxes_tables = [[] for _ in range(self.image_size[1])]\n",
        "    for idx, box in enumerate(text_proposals):\n",
        "      boxes_tables[int(box[0])].append(idx) ## min_x의 좌표에 해당하는 anchor의 번호들을 넣어 준다.\n",
        "    self.boxes_table = boxes_tables\n",
        "\n",
        "    graph = np.zeros((text_proposals.shape[0], text_proposals.shape[0]), np.bool)\n",
        "\n",
        "    for idx, box in enumerate(text_proposals):\n",
        "      successions = self.get_successions(idx)\n",
        "      if len(successions) == 0:\n",
        "        continue\n",
        "      succession_index = successions[np.argmax(scores[successions])]\n",
        "      if self.is_succession_node(idx, succession_index):\n",
        "        graph[idx, succession_index] = True\n",
        "    G = Graph(graph=graph)\n",
        "\n",
        "    return G\n",
        "\n",
        "  def get_precusors(self, index):\n",
        "    box = self.text_proposals[index]\n",
        "    results = []\n",
        "    for left in range(int(box[0])-1, max(int(box[0] - self.max_hori_gap), 0)-1, -1):\n",
        "      neighbor_box_indices = self.boxes_table[left]\n",
        "      for neighbor_box_index in neighbor_box_indices:\n",
        "        if self.meet_v_iou(neighbor_box_index, index):\n",
        "          results.append(neighbor_box_index)\n",
        "      if len(results) != 0:\n",
        "        return results\n",
        "    return results\n",
        "  \n",
        "\n",
        "class TextProposalConnector(object):\n",
        "  def __init__(self, anchor_cfg):\n",
        "    super().__init__()\n",
        "    self.anchor_cfg =anchor_cfg\n",
        "    self.graph_builder = TextProposalGraphBuilder(anchor_cfg)\n",
        "  \n",
        "  def group_text_proposals(self, text_proposals, scores, image_size):\n",
        "    graph = self.graph_builder.build_graph(text_proposals, scores=scores, image_size=image_size)\n",
        "    return graph.sub_graphs_connected()\n",
        "\n",
        "  def clip_boxes(self, text_lines, image_size):\n",
        "    H, W = image_size\n",
        "    zero = 0.0\n",
        "    W_diff, H_diff = H-1., W-1.\n",
        "    text_lines[:, 0::2] = np.maximum(np.minimum(text_lines[:, 0::2], W_diff), 0.0)\n",
        "    text_lines[:, 1::2] = np.maximum(np.minimum(text_lines[:, 1::2], H_diff), 0.0)\n",
        "\n",
        "    return text_lines\n",
        "\n",
        "  def get_text_lines(self, text_proposals, scores, image_size):\n",
        "    tp_groups = self.group_text_proposals(text_proposals, scores, image_size)\n",
        "    text_lines = np.zeros((len(tp_groups), 4), dtype= np.float32)\n",
        "\n",
        "    average_scores = []\n",
        "\n",
        "    for idx, text_proposal_index in enumerate(tp_groups):\n",
        "      text_line_boxes = text_proposals[list(text_proposal_index)]\n",
        "      xmin = np.min(text_line_boxes[:, 0])\n",
        "      xmax = np.max(text_line_boxes[:, 2])\n",
        "      offset = (text_line_boxes[0, 2] - text_line_boxes[0,0]) / 2.\n",
        "      lt_y, rt_y = fit_y(text_line_boxes[:, 0], text_line_boxes[:, 1], xmin+offset, xmax-offset)\n",
        "      lb_y, rb_y = fit_y(text_line_boxes[:, 2], text_line_boxes[:,3], xmin+offset, xmax-offset)\n",
        "\n",
        "      average_scores.append(scores[list(text_proposal_index)].sum() / float(len(text_proposal_index)))\n",
        "\n",
        "      text_lines[idx, 0] = xmin\n",
        "      text_lines[idx, 1] = min(lt_y, rt_y) ## ymin\n",
        "      text_lines[idx, 2] = xmax\n",
        "      text_lines[idx, 3] = max(lb_y, rb_y) ## ymax\n",
        "\n",
        "    text_lines = self.clip_boxes(text_lines, image_size)\n",
        "    average_scores = np.array(average_scores)\n",
        "\n",
        "    return text_lines, average_scores\n"
      ],
      "metadata": {
        "id": "9tYx8horJej1"
      },
      "execution_count": 5,
      "outputs": []
    },
    {
      "cell_type": "markdown",
      "source": [
        "`(5) CTPN Text Detector`"
      ],
      "metadata": {
        "id": "hRPLKl0hIxiJ"
      }
    },
    {
      "cell_type": "code",
      "source": [
        "import torch\n",
        "import torch.nn as nn\n",
        "import torch.nn.functional as F\n",
        "import numpy as np\n",
        "import sys, os\n",
        "\n",
        "class TextDetector(object):\n",
        "  def __init__(self, anchor_cfg):\n",
        "    super().__init__()\n",
        "    self.anchor_cfg = anchor_cfg\n",
        "    self.confidence_score = anchor_cfg.CONFIDENCE_SCORE\n",
        "    self.neighbor_iou = anchor_cfg.NEIGHBOR_IOU\n",
        "    self.feature_stride = anchor_cfg.FEATURE_STRIDE\n",
        "    self.anchor_shift = anchor_cfg.ANCHOR_SHIFT\n",
        "    self.anchor_generator = AnchorGenerator(self.anchor_cfg)\n",
        "    self.text_proposal_connector = TextProposalConnector(self.anchor_cfg)\n",
        "  \n",
        "  def decode(self, predicted_bboxes, anchor_boxes):\n",
        "    anchor_height = anchor_boxes[:, 3] - anchor_boxes[:, 1] + 1.\n",
        "    anchor_center_y = (anchor_boxes[:, 1] + anchor_boxes[:, 3]) / 2.\n",
        "    gt_center_y = predicted_bboxes[..., 0] * anchor_height + anchor_center_y\n",
        "    gt_height = np.exp(predicted_bboxes[...,1]) * anchor_height\n",
        "\n",
        "    x1 = anchor_boxes[:, 0]\n",
        "    y1 = gt_center_y - gt_height / 2.\n",
        "    x2 = anchor_boxes[:, 1]\n",
        "    y2 = gt_center_y + gt_height / 2.\n",
        "\n",
        "    bboxes = np.stack([\n",
        "        x1, y1.squeeze(), x2, y2.squeeze()\n",
        "    ], axis= 1)\n",
        "\n",
        "    return bboxes\n",
        "\n",
        "  def nms(self, bboxes, scores):\n",
        "    # (1) confidence score이 높은 순서대로 box를 정렬한다.\n",
        "    score_indices = np.argsort(scores, kind= 'mergesort', axis=-1)[::-1] ## 오름차순으로 정렬이 되었으니 역순으로 변경\n",
        "    candidates = []\n",
        "    # (2) bbox의 영역 넓이를 우선 구해준다.\n",
        "    xmin, xmax = bboxes[:, 0], bboxes[:,2]\n",
        "    ymin, ymax = bboxes[:, 1] , bboxes[:, 3]\n",
        "    areas = (xmax - xmin+1) * (ymax-ymin+1)\n",
        "\n",
        "    # (3) conf score이 높은 bbox부터 선택후 IoU가 높은 다른 box 제거\n",
        "    while score_indices.size > 0:\n",
        "      cur_idx = score_indices[0]\n",
        "      candidates.append(cur_idx)\n",
        "\n",
        "      xxmax = np.maximum(xmin[cur_idx], xmin[score_indices[1:]])\n",
        "      xxmin = np.minimum(xmax[cur_idx], xmax[score_indices[1:]])\n",
        "      yymax = np.maximum(ymin[cur_idx], ymin[score_indices[1:]])\n",
        "      yymin = np.minimum(ymax[cur_idx], ymax[score_indices[1:]])\n",
        "\n",
        "      W = np.maximum(0.0, xxmin - xxmax)\n",
        "      H = np.maximum(0.0, yymin - yymax)\n",
        "\n",
        "      overlap = W * H ## (교집합)\n",
        "      remain = areas[score_indices[1:]] ## remaining areas (차집합)\n",
        "      aou = areas[cur_idx] + remain - overlap ## area of union\n",
        "      IoU = overlap / aou\n",
        "\n",
        "      indices = np.where(IoU <= self.neighbor_iou)[0]\n",
        "      score_indices = score_indices[indices+1]\n",
        "    return candidates\n",
        "    \n",
        "  def __call__(self, predictions, image_size):\n",
        "    H, W = image_size\n",
        "    predicted_bboxes, predicted_scores, predicted_refinement = predictions # 근데 refinement정보는 사용하지 않음\n",
        "    predicted_scores = torch.softmax(predicted_scores, dim=2)\n",
        "    predicted_bboxes = predicted_bboxes.cpu().numpy()\n",
        "    predicted_scores = predicted_scores.cpu().numpy()\n",
        "\n",
        "    feature_map_size = [int(np.ceil(H / self.anchor_shift), int(np.ceil(W / self.anchor_shift)))]\n",
        "    anchor_boxes = self.anchor_generator.generate_all_anchors(feature_map_size = feature_map_size)\n",
        "\n",
        "    decoded_bboxes = self.decode(predicted_bboxes=predicted_bboxes, anchor_boxes=anchor_boxes)\n",
        "    clipped_bboxes = self.text_proposal_connector.clip_boxes(decoded_bboxes, image_size)\n",
        "\n",
        "    text_class = 1\n",
        "    conf_scores = predicted_scores[0, :, text_class]\n",
        "    conf_scores_mask = np.where(conf_scores > self.confidence_score) # confidence점수가 기준보다 높으면 text 영역으로 간주\n",
        "    conf_scores_mask = conf_scores_mask[0]\n",
        "\n",
        "    selected_bboxes = clipped_bboxes[conf_scores_mask,:]\n",
        "    selected_scores = predicted_scores[0, conf_scores_mask, text_class]\n",
        "\n",
        "    candidates = self.nms(bboxes=selected_bboxes, scores=selected_scores)\n",
        "\n",
        "    selected_bboxes = selected_bboxes[candidates, :]\n",
        "    selected_scores = selected_scores[candidates, :]\n",
        "    text_lines, scores = self.text_proposal_connector.get_text_lines(\n",
        "        text_proposals=selected_bboxes,\n",
        "        scores=selected_scores,\n",
        "        image_size=image_size\n",
        "    )\n",
        "\n",
        "    return text_lines, scores\n"
      ],
      "metadata": {
        "id": "czZFlqrNI2ED"
      },
      "execution_count": 6,
      "outputs": []
    },
    {
      "cell_type": "markdown",
      "source": [
        "`(6) CTPN Model`"
      ],
      "metadata": {
        "id": "32XD8vrhsstP"
      }
    },
    {
      "cell_type": "code",
      "source": [
        "import torch\n",
        "import torch.nn as nn\n",
        "from torchvision import models\n",
        "!pip install einops\n",
        "from einops import rearrange\n",
        "\n",
        "class CTPN(nn.Module):\n",
        "  def __init__(self,\n",
        "               n_classes=2, ## Text Area vs Background Area\n",
        "               f_out_channels=512,\n",
        "               n_anchors=10, ## 각각의 feature map의 pixel마다의 anchor의 개수 (만약에 feature map을 8배로만 줄인다면 어떨까?)\n",
        "               hidden_size=128,\n",
        "               pretrained_backbone=True):\n",
        "    super(CTPN, self).__init__()\n",
        "    self.n_classes = n_classes\n",
        "    self.hidden_size = hidden_size\n",
        "    self.pretrained_backbone = pretrained_backbone\n",
        "\n",
        "    ## (1) Pretrained 2D Backbone (=VGG16)\n",
        "    try:\n",
        "      vgg = models.vgg16(weights = models.VGG16_Weights.IMAGENET1K_V1)\n",
        "    except:\n",
        "      vgg = models.vgg16(pretrained=True)\n",
        "    self.vgg_layers = nn.Sequential(*list(vgg.features)[:-1])\n",
        "\n",
        "    ## (2) RPN Layer\n",
        "    self.rpn = nn.Sequential(\n",
        "        nn.Conv2d(in_channels=f_out_channels, out_channels=f_out_channels, kernel_size=(3, 3), stride=(1, 1), padding=(1, 1), bias=True),\n",
        "        nn.ReLU(inplace=True)\n",
        "    )\n",
        "\n",
        "    ## (3) BiLSTM Layer\n",
        "    self.rnn = nn.LSTM(input_size=f_out_channels, hidden_size=self.hidden_size, num_layers=2, bidirectional=True, batch_first=True)\n",
        "  \n",
        "    ## (4) FC Layer\n",
        "    self.fc = nn.Linear(self.hidden_size*2, f_out_channels, bias=True)\n",
        "\n",
        "    ## (5) CLS Layer\n",
        "    self.cls = nn.Conv2d(in_channels=f_out_channels, out_channels=n_anchors * n_classes, kernel_size=(1, 5), stride=(1, 1), padding=(0, 2), bias=True)\n",
        "\n",
        "    ## (6) Regression Layer\n",
        "    self.reg = nn.Conv2d(in_channels=f_out_channels, out_channels = n_anchors * 2, kernel_size = (1, 5), stride=(1, 1), padding=(0,2), bias=True)\n",
        "\n",
        "    ## (7) Refinement Layer\n",
        "    self.refine = nn.Conv2d(in_channels=f_out_channels, out_channels=n_anchors, kernel_size=(1, 5), stride=(1, 2), padding=(0, 2), bias=True)\n",
        "\n",
        "    self.reset_parameters()\n",
        "\n",
        "  def reset_parameters(self):\n",
        "    for name, named_child in self.named_children():\n",
        "      if name == 'rnn':\n",
        "        for param in named_child.parameters():\n",
        "          if len(param.shape) >= 2:\n",
        "            nn.init.orthogonal_(param.data)\n",
        "          else:\n",
        "            nn.init.zeros_(param.data)\n",
        "            nn.init.ones_(param.data[self.hidden_size:self.hidden_size*2])\n",
        "      elif not self.pretrained_backbone or name != \"vgg_layers\":\n",
        "        for layer in named_child.modules():\n",
        "          if isinstance(layer, nn.Conv2d) or isinstance(layer, nn.Linear):\n",
        "            nn.init.kaiming_normal_(layer.weight, a = 0.0, mode='fan_in', nonlinearity='relu')\n",
        "            if layer.bias is not None:\n",
        "              nn.init.constant_(layer.bias, val=0.0)\n",
        "\n",
        "  def forward(self, inputs):\n",
        "    backbone_features = self.vgg_layers(inputs)\n",
        "    rpn_features = self.rpn(backbone_features)\n",
        "    rpn_size = (rpn_features.size(0), rpn_features.size(1), rpn_features.size(2), rpn_features.size(3))\n",
        "    rpn_features = rearrange(rpn_features, 'b c h w -> b h w c')\n",
        "    rpn_features = rpn_features.contiguous().view(-1, rpn_features.size(2), rpn_features.size(3))\n",
        "\n",
        "    rnn_features, _ = self.rnn(rpn_features)\n",
        "    fc_features = self.fc(rnn_features)\n",
        "\n",
        "    fc_features = fc_features.contiguous().view(rpn_size[0], rpn_size[2], rpn_size[3], rpn_size[1])\n",
        "    fc_features = fc_features.permute(0, 3, 1, 2).contiguous()\n",
        "    \n",
        "    reg_features = self.reg(fc_features)\n",
        "    cls_features = self.cls(fc_features)\n",
        "    refine_features = self.refine(fc_features)\n",
        "\n",
        "    reg_features = reg_features.permute(0, 2, 3, 1)\n",
        "    cls_features = cls_features.permute(0, 2, 3, 1)\n",
        "    refine_features = refine_features.permute(0, 2, 3, 1)\n",
        "\n",
        "    reg_features = reg_features.contiguous().view(reg_features.size(0), -1, 2)\n",
        "    cls_features = cls_features.contiguous().view(cls_features.size(0), -1, self.n_classes)\n",
        "    refine_features = refine_features.contiguous().view(refine_features.size(0), -1, 1)\n",
        "\n",
        "    return reg_features, cls_features, refine_features"
      ],
      "metadata": {
        "colab": {
          "base_uri": "https://localhost:8080/"
        },
        "id": "D38q5e1wsuBP",
        "outputId": "eda37913-e025-4636-dc52-2fe2cc3609c2"
      },
      "execution_count": 7,
      "outputs": [
        {
          "output_type": "stream",
          "name": "stdout",
          "text": [
            "Looking in indexes: https://pypi.org/simple, https://us-python.pkg.dev/colab-wheels/public/simple/\n",
            "Requirement already satisfied: einops in /usr/local/lib/python3.8/dist-packages (0.6.0)\n"
          ]
        }
      ]
    },
    {
      "cell_type": "code",
      "source": [
        "if __name__ == \"__main__\":\n",
        "  ctpn = CTPN()\n",
        "  for name, child in ctpn.named_children():\n",
        "    if name  == 'vgg_layers':\n",
        "      cnt=0\n",
        "      for idx, layer in enumerate(child):\n",
        "        if isinstance(layer, nn.Conv2d):\n",
        "          for param in layer.parameters():\n",
        "            param.requires_grad = False\n",
        "          cnt += 1\n",
        "        if cnt == 2:\n",
        "          break"
      ],
      "metadata": {
        "colab": {
          "base_uri": "https://localhost:8080/"
        },
        "id": "5scI-JVRpyVJ",
        "outputId": "1c55ef3c-1c2a-4628-d042-44ac5577286c"
      },
      "execution_count": 222,
      "outputs": [
        {
          "output_type": "stream",
          "name": "stdout",
          "text": [
            "0\n",
            "1\n"
          ]
        }
      ]
    },
    {
      "cell_type": "markdown",
      "source": [
        "`(7) CTPN Dataset`"
      ],
      "metadata": {
        "id": "PhN2N4ruwclc"
      }
    },
    {
      "cell_type": "code",
      "source": [
        "class DATA_CONFIG(object):\n",
        "  def __init__(self):\n",
        "    self.IMAGE_PIXEL_STD = [0.20037157, 0.18366718, 0.19631825]\n",
        "    self.IMAGE_PIXEL_MEAN = [0.90890862, 0.91631571, 0.90724233]\n",
        "    self.RPN_POSITIVE_NUM=64\n",
        "    self.RPN_NUM=128\n",
        "    self.IMAGE_H=2048\n",
        "    self.IMAGE_W=1024\n",
        "    self.MAX_SCALE=1000\n",
        "    self.DATA_DIR='/content/drive/MyDrive/SpeakingFridgey/SROIE2019'"
      ],
      "metadata": {
        "id": "M5oa9c6n6Vs-"
      },
      "execution_count": 151,
      "outputs": []
    },
    {
      "cell_type": "code",
      "source": [
        "import torch\n",
        "import torch.nn as nn\n",
        "from torchvision import transforms\n",
        "from torch.utils.data import Dataset, DataLoader\n",
        "\n",
        "def order_point_clockwise(bboxes: np.ndarray) -> np.ndarray:\n",
        "  \"\"\"\n",
        "  Order in clockwise the bounding box coordinates.\n",
        "  Args:\n",
        "        bboxes (numpy.ndarray): A numpy array containing the bounding box coordinates. Shape: [4, 2].\n",
        "  Returns:\n",
        "        An ordered clockwise bounding box.\n",
        "  \"\"\"\n",
        "  if bboxes.ndim != 2 and bboxes.shape != (4, 2):\n",
        "    raise ValueError(\"The bounding box coordinates are not in the correct shape!\"\n",
        "                         \"It must be an numpy array of 2D whose shape is (4, 2).\")\n",
        "\n",
        "  # sort the points based on their x-coordinates\n",
        "  xSorted = bboxes[np.argsort(bboxes[:, 0]), :]\n",
        "\n",
        "  # grab the left-most and right-most points from the sorted\n",
        "  # x-coordinate points\n",
        "  leftMost = xSorted[:2, :]\n",
        "  rightMost = xSorted[2:, :]\n",
        "\n",
        "  # now, sort the left-most coordinates according to their\n",
        "  # y-coordinates, so we can grab the top-left and bottom-left\n",
        "  # points, respectively\n",
        "  leftMost = leftMost[np.argsort(leftMost[:, 1]), :]\n",
        "  (top_left, bottom_left) = leftMost\n",
        "\n",
        "  # now, sort the right-most coordinates according to their\n",
        "  # y-coordinates, so we can grab the top-right and bottom-right\n",
        "  # points, respectively\n",
        "  rightMost = rightMost[np.argsort(rightMost[:, 1]), :]\n",
        "  (top_right, bottom_right) = rightMost\n",
        "\n",
        "  # return the coordinates in this following order: top-left, top-right, bottom-right, and bottom-left\n",
        "  return np.array([top_left, top_right, bottom_right, bottom_left])\n",
        "\n",
        "def to_xy_min_max(bboxes: np.ndarray) -> List[int]:\n",
        "  \"\"\"\n",
        "  Convert one bounding box whose form is: [x1, y1, x2, y2, x3, y3, x4, y4]\n",
        "  into a box of form (xmin, ymin, xmax, ymax)\n",
        "  Args:\n",
        "        bboxes (numpy.ndarray): A numpy array containing the bounding box 8-coordinates.\n",
        "  Returns:\n",
        "        A list containing the bounding box 4-coordinates.\n",
        "    \"\"\"\n",
        "\n",
        "  if len(bboxes) != 8:\n",
        "    raise NotImplementedError(\"The bounding box coordinates must a length of 8!\")\n",
        "\n",
        "  Xs = bboxes[0::2]\n",
        "  Ys = bboxes[1::2]\n",
        "\n",
        "  xmin = int(round(np.min(Xs, 0)))\n",
        "  ymin = int(round(np.min(Ys, 0)))\n",
        "  xmax = int(round(np.max(Xs, 0)))\n",
        "  ymax = int(round(np.max(Ys, 0)))\n",
        "\n",
        "  final_boxes = [xmin, ymin, xmax, ymax]\n",
        "\n",
        "  return final_boxes\n",
        "\n",
        "\n",
        "def generate_gtboxes(txt_path, rescale_factor):\n",
        "  gtboxes=[]\n",
        "  with open(txt_path, 'r') as f:\n",
        "    base_gtboxes = f.readlines()\n",
        "    for line in base_gtboxes:\n",
        "      coor_list = line.split(',')[:8]\n",
        "      bbox = order_point_clockwise(np.array(list(map(np.float32, coor_list))).reshape((4, 2)))\n",
        "      if cv2.arcLength(bbox, True) > 0:\n",
        "        bbox = np.array(to_xy_min_max(bbox.flatten()))\n",
        "        gtboxes.append(bbox)\n",
        "  return np.array(gtboxes)\n",
        "\n",
        "def data_transform_before_matching(image_size, new_image_size, gt_box, anchor_shift):\n",
        "  img_w, img_h = image_size[0], image_size[1]\n",
        "  new_w, new_h = new_image_size[0], new_image_size[1]\n",
        "  ratio_w = new_w / img_w\n",
        "  ratio_h = new_h / img_h\n",
        "  gt_box *= np.array([[ratio_w, ratio_h, ratio_w, ratio_h]])\n",
        "  # print(torch.from_numpy(gt_box))\n",
        "\n",
        "  new_gt_boxes = []\n",
        "  for i, box in enumerate(gt_box):\n",
        "    xmin, ymin, xmax, ymax = box\n",
        "    box_ids = np.arange(int(np.floor(1.0 * xmin / anchor_shift)), int(np.ceil(1.0 * xmax / anchor_shift)))\n",
        "    new_bboxes = np.zeros(shape = (len(box_ids), 4))\n",
        "    new_bboxes[:, 0] = box_ids * anchor_shift\n",
        "    new_bboxes[:, 1] = ymin\n",
        "    new_bboxes[:, 2] = (box_ids + 1.0) * anchor_shift\n",
        "    new_bboxes[:,3] = ymax\n",
        "    new_gt_boxes.append(new_bboxes)\n",
        "  new_gt_bboxes = np.concatenate(new_gt_boxes, axis=0)\n",
        "  return new_gt_bboxes\n",
        "\n",
        "class FridgeyDataset(Dataset):\n",
        "  def __init__(self, data_cfg, anchor_cfg, mode='train'):\n",
        "    super(FridgeyDataset, self).__init__()\n",
        "    self.data_cfg = data_cfg\n",
        "    self.anchor_cfg = anchor_cfg\n",
        "    self.anchor_generator = AnchorGenerator(anchor_cfg)\n",
        "    self.data_dir = os.path.join(self.data_cfg.DATA_DIR, mode)\n",
        "    self.label_dir = os.path.join(self.data_dir, 'box')\n",
        "    self.img_names = os.listdir(os.path.join(self.data_dir, 'img'))\n",
        "\n",
        "  def __len__(self):\n",
        "    return len(self.img_names)\n",
        "\n",
        "  def __getitem__(self, idx):\n",
        "    img_name = self.img_names[idx]\n",
        "    img_path = os.path.join(self.data_dir, 'img', img_name)\n",
        "    img = cv2.imread(img_path)\n",
        "    img = cv2.cvtColor(img, cv2.COLOR_BGR2RGB)\n",
        "\n",
        "    h, w, c = img.shape\n",
        "    resize_h, resize_w = self.data_cfg.IMAGE_H, self.data_cfg.IMAGE_W\n",
        "    rescale_fac = [h / resize_h, w/resize_w] # max(h, w) / self.data_cfg.MAX_SCALE\n",
        "    \n",
        "    img = cv2.resize(img, (resize_w, resize_h))\n",
        "    img = np.array(img)\n",
        "    \n",
        "    gt_path = os.path.join(self.label_dir, img_name.split('.')[0] + '.txt')\n",
        "    gtbox = generate_gtboxes(gt_path, rescale_factor = rescale_fac)\n",
        "    gtbox = gtbox.astype(np.float)\n",
        "    \n",
        "    initial_gtbox = torch.from_numpy(gtbox) ## 16개로 나누기전에 사용한 gtbox\n",
        "\n",
        "    gtbox = data_transform_before_matching((w, h), new_image_size=(resize_w, resize_h), gt_box = gtbox, anchor_shift=self.anchor_cfg.ANCHOR_SHIFT)\n",
        "\n",
        "    img = transforms.Compose([\n",
        "        transforms.ToTensor(),\n",
        "        transforms.Normalize(mean=self.data_cfg.IMAGE_PIXEL_MEAN, std=self.data_cfg.IMAGE_PIXEL_STD)\n",
        "    ])(img)\n",
        "    gtbox = torch.from_numpy(gtbox).float()\n",
        "\n",
        "    reg_target, cls_target = self.anchor_generator((resize_h, resize_w), gtbox, False)\n",
        "    fg_index = torch.where(cls_target == 1)[0]\n",
        "\n",
        "    if (len(fg_index) > self.data_cfg.RPN_POSITIVE_NUM):\n",
        "      cls_target[np.random.choice(fg_index, len(fg_index) - self.data_cfg.RPN_POSITIVE_NUM, replace= False)] = -1\n",
        "\n",
        "    bg_index = torch.where(cls_target == 0)[0]\n",
        "    rpn_negative_num = self.data_cfg.RPN_NUM - min(len(fg_index), self.data_cfg.RPN_POSITIVE_NUM)\n",
        "    if (len(bg_index) > rpn_negative_num):\n",
        "      cls_target[np.random.choice(bg_index, len(bg_index) - rpn_negative_num, replace=False)]=-1\n",
        "      \n",
        "    return img, reg_target, cls_target, {\"initial_gtbox\": initial_gtbox, \"image_dir\": img_path}\n",
        "\n"
      ],
      "metadata": {
        "id": "Gi4RGTt-weZT"
      },
      "execution_count": 216,
      "outputs": []
    },
    {
      "cell_type": "code",
      "source": [
        "if __name__== \"__main__\":\n",
        "  dataset = FridgeyDataset(data_cfg=DATA_CONFIG(), anchor_cfg = ANCHOR_CFG())\n",
        "  dataloader = DataLoader(dataset, shuffle=True, batch_size=1)\n",
        "  for idx, batch in enumerate(dataloader):\n",
        "    break"
      ],
      "metadata": {
        "colab": {
          "base_uri": "https://localhost:8080/"
        },
        "id": "h3IhWz0C9eZz",
        "outputId": "45b2045d-fdc9-494d-e1ac-62be92351887"
      },
      "execution_count": 212,
      "outputs": [
        {
          "output_type": "stream",
          "name": "stderr",
          "text": [
            "<ipython-input-211-95d85403a76d>:128: DeprecationWarning: `np.float` is a deprecated alias for the builtin `float`. To silence this warning, use `float` by itself. Doing this will not modify any behavior and is safe. If you specifically wanted the numpy scalar type, use `np.float64` here.\n",
            "Deprecated in NumPy 1.20; for more details and guidance: https://numpy.org/devdocs/release/1.20.0-notes.html#deprecations\n",
            "  gtbox = gtbox.astype(np.float)\n"
          ]
        },
        {
          "output_type": "stream",
          "name": "stdout",
          "text": [
            "ANCHOR_N : 98304\n"
          ]
        }
      ]
    },
    {
      "cell_type": "code",
      "source": [
        "img, reg_target, cls_target, more_data = batch"
      ],
      "metadata": {
        "id": "kIf32A0aCaqo"
      },
      "execution_count": 213,
      "outputs": []
    },
    {
      "cell_type": "code",
      "source": [
        "gtbox.shape"
      ],
      "metadata": {
        "colab": {
          "base_uri": "https://localhost:8080/"
        },
        "id": "j4soQ8BPnwUH",
        "outputId": "695e46af-fe65-446d-b87f-6dec800e76af"
      },
      "execution_count": 214,
      "outputs": [
        {
          "output_type": "execute_result",
          "data": {
            "text/plain": [
              "torch.Size([1, 968, 4])"
            ]
          },
          "metadata": {},
          "execution_count": 214
        }
      ]
    },
    {
      "cell_type": "code",
      "source": [
        "reg_target[0][:, -1]"
      ],
      "metadata": {
        "colab": {
          "base_uri": "https://localhost:8080/"
        },
        "id": "e1alUdUHfjtN",
        "outputId": "0b857141-6e34-499c-d2ed-19e6c29861e2"
      },
      "execution_count": 207,
      "outputs": [
        {
          "output_type": "execute_result",
          "data": {
            "text/plain": [
              "tensor([  10.5625,   10.5625,   10.5625,  ..., -113.4375, -113.4375,\n",
              "        -113.4375])"
            ]
          },
          "metadata": {},
          "execution_count": 207
        }
      ]
    },
    {
      "cell_type": "code",
      "source": [
        "for b in range(reg_target.shape[0]):\n",
        "  print(torch.where(cls_target[b] == 1)[0].shape[0])"
      ],
      "metadata": {
        "colab": {
          "base_uri": "https://localhost:8080/"
        },
        "id": "0lOylK_AOPyD",
        "outputId": "758107aa-8e80-4c6f-8f46-7fbc349ca895"
      },
      "execution_count": 184,
      "outputs": [
        {
          "output_type": "stream",
          "name": "stdout",
          "text": [
            "64\n"
          ]
        }
      ]
    },
    {
      "cell_type": "code",
      "source": [
        "import matplotlib.pyplot as plt\n",
        "sample_image = img[0].cpu().permute(1, 2, 0).numpy().astype(np.uint8).copy()\n",
        "gtbox = more_data['initial_gtbox']\n",
        "for box in gtbox[0]:\n",
        "  box = [int(x) for x in box]\n",
        "  x1,y1,x2, y2 = box\n",
        "  cv2.rectangle(sample_image, (x1, y1), (x2, y2), 255, 3)\n",
        "plt.imshow(sample_image)\n",
        "cv2.imwrite('/content/drive/MyDrive/SpeakingFridgey/demo/test.jpg', sample_image)"
      ],
      "metadata": {
        "colab": {
          "base_uri": "https://localhost:8080/",
          "height": 286
        },
        "id": "5mAHE4eBN7Ks",
        "outputId": "aad860c6-f58f-4ebc-baa4-eebb4d100273"
      },
      "execution_count": 215,
      "outputs": [
        {
          "output_type": "execute_result",
          "data": {
            "text/plain": [
              "True"
            ]
          },
          "metadata": {},
          "execution_count": 215
        },
        {
          "output_type": "display_data",
          "data": {
            "text/plain": [
              "<Figure size 432x288 with 1 Axes>"
            ],
            "image/png": "[encoded data removed]"
          },
          "metadata": {
            "needs_background": "light"
          }
        }
      ]
    },
    {
      "cell_type": "markdown",
      "source": [
        "`(8) CTPN Loss Function`"
      ],
      "metadata": {
        "id": "rOQ_s1_Wf7JF"
      }
    },
    {
      "cell_type": "code",
      "source": [
        "class LOSS_CFG(object):\n",
        "  def __init__(self):\n",
        "    self.LAMBDA_REG=1.0\n",
        "    self.LAMBDA_REFINE=2.0\n",
        "    self.LAMBDA_CLS=1.0\n",
        "\n",
        "    self.ALPHA=0.5\n",
        "    self.GAMMA=1.5\n",
        "    self.BETA=1.0\n",
        "    self.REDUCTION='none'\n",
        "  "
      ],
      "metadata": {
        "id": "nNevZPGFkKW7"
      },
      "execution_count": 208,
      "outputs": []
    },
    {
      "cell_type": "code",
      "source": [
        "import torch\n",
        "import torch.nn as nn\n",
        "\n",
        "class BalancedL1Loss(nn.Module):\n",
        "  def __init__(self, loss_cfg):\n",
        "    super(BalancedL1Loss).__init__()\n",
        "    self.loss_cfg = loss_cfg\n",
        "    self.alpha = loss_cfg.ALPHA\n",
        "    self.gamma = loss_cfg.GAMMA\n",
        "    self.beta = loss_cfg.BETA\n",
        "    self.reduction = loss_cfg.REDUCTION\n",
        "\n",
        "  \n",
        "  def forward(self, inputs: torch.Tensor, targets: torch.Tensor):\n",
        "    if targets.numel() == 0:\n",
        "      return inputs.sum() * 0\n",
        "    x = torch.abs(inputs - targets)\n",
        "    b = torch.exp(torch.as_tensor(self.gamma / self.alpha)) - 1.0\n",
        "    loss = torch.where(\n",
        "        x < self.beta,\n",
        "        self.alpha / b *(b*x+1) * torch.log(b * x / self.beta+1) - self.alpha * x,\n",
        "        self.gamma * x + self.gamma / b - self.alpha * self.beta\n",
        "    )\n",
        "    if self.reduction == 'mean':\n",
        "      loss = loss.mean()\n",
        "    elif self.reduction == 'sum':\n",
        "      loss = loss.sum()\n",
        "    else:\n",
        "      pass\n",
        "    return loss\n",
        "\n",
        "class MultiBoxLoss(nn.Module):\n",
        "  def __init__(self, loss_cfg, anchor_cfg):\n",
        "    super(MultiBoxLoss, self).__init__()\n",
        "    self.lambda_reg = loss_cfg.LAMBDA_REG\n",
        "    self.lambda_refine = loss_cfg.LAMBDA_REFINE\n",
        "    self.lambda_cls = loss_cfg.LAMBDA_CLS\n",
        "    self.ignore_index = anchor_cfg.IGNORE_LABEL\n",
        "    self.positive_index = anchor_cfg.POSITIVE_LABEL\n",
        "    self.negative_index = anchor_cfg.NEGATIVE_LABEL\n",
        "    self.l1_loss = BalancedL1Loss(loss_cfg)\n",
        "    self.ce_loss = nn.CrossEntropyLoss(ignore_index = self.ignore_index, reduction='none')\n",
        "  \n",
        "  def forward(self, predictions, reg_target, cls_target):\n",
        "    predicted_bboxes, predicted_classes, predicted_refinement = predictions\n",
        "    gt_bboxes, matching_indicators = reg_target, cls_target #  targets  ## reg_target, cls_target\n",
        "    box_gt, refine_gt = gt_bboxes[:, :2], gt_bboxes[:, 2]\n",
        "\n",
        "    positive_anchor_mask = matching_indicators == self.positive_index\n",
        "    negative_anchor_mask = matching_indicators == self.negative_index\n",
        "    \n",
        "    reg_loss = self.l1_loss(inputs = predicted_bboxes[positive_anchor_mask], targets=box_gt[positive_anchor_mask])\n",
        "    refine_loss = self.l1_loss(inputs = predicted_refinement[positive_anchor_mask], targets=refine_gt[positive_anchor_mask])\n",
        "\n",
        "    Nv = reg_loss.size(0)\n",
        "\n",
        "    reg_loss = (self.lambda_reg / Nv) * reg_loss.sum()\n",
        "    refine_loss = (self.lambda_refine / Nv) * refine_loss.sum()\n",
        "\n",
        "    n_classes = predicted_classes.size(2)\n",
        "\n",
        "    pos_conf_loss = self.ce_loss(\n",
        "        input = predicted_classes[positive_anchor_mask].contiguous().view(-1, n_classes),\n",
        "        target = matching_indicators[positive_anchor_mask].contiguous().view(-1)\n",
        "    )\n",
        "\n",
        "    neg_conf_loss = self.ce_loss(\n",
        "        input = predicted_classes[negative_anchor_mask].contiguous().view(-1, n_classes),\n",
        "        target = matching_indicators[negative_anchor_mask].contiguous().view(-1)\n",
        "    )\n",
        "\n",
        "    k_pos_anchors = positive_anchor_mask.long().sum()\n",
        "    all_negatives = negative_anchor_mask.long().sum()\n",
        "    k_negatives = k_pos_anchors * self.neg_pos_ratio\n",
        "    k = min(k_negatives, all_negatives)\n",
        "\n",
        "    hard_negative_conf_loss,  _ = torch.topk(input = neg_conf_loss, k = int(k), largest = True, sorted=True)\n",
        "    Ns = torch.count_nonzero(pos_conf_loss) + torch.count_nonzero(hard_negative_conf_loss)\n",
        "\n",
        "    cls_pos = pos_conf_loss.sum()\n",
        "    cls_neg = hard_negative_conf_loss.sum()\n",
        "    conf_loss = (self.lambda_cls / Ns) * (cls_pos + cls_neg)\n",
        "\n",
        "    return conf_loss, reg_loss, refine_loss"
      ],
      "metadata": {
        "id": "2g9i0awif9oI"
      },
      "execution_count": 225,
      "outputs": []
    },
    {
      "cell_type": "markdown",
      "source": [
        "`(9) CTPN Training`"
      ],
      "metadata": {
        "id": "aMKjyyT_wfzu"
      }
    },
    {
      "cell_type": "code",
      "source": [
        "class TRAIN_CFG(object):\n",
        "  def __init__(self):\n",
        "    self.BATCH_SIZE=8\n",
        "    self.LEARNING_RATE=0.001\n",
        "    self.FIRST_STEP=16000\n",
        "    self.SECOND_STEP=40000\n",
        "    self.EVAL_STEP=3000\n",
        "    self.SAVE_STEP=1000\n",
        "    self.MOMENTUM=0.9\n",
        "    self.WEIGHT_DECAY=0.0005\n",
        "    self.RESULT_PATH='/content/drive/MyDrive/SpeakingFridgey/text_detection/CTPN_TRAINING_RESULT'\n"
      ],
      "metadata": {
        "id": "_Vz6G8hJq20K"
      },
      "execution_count": 223,
      "outputs": []
    },
    {
      "cell_type": "code",
      "source": [
        "import torch\n",
        "import torch.nn as nn\n",
        "!pip install loguru\n",
        "from loguru import logger\n",
        "\n",
        "class Trainer(object):\n",
        "  def __init__(self, exp, train_cfg, anchor_cfg, data_cfg, loss_cfg):\n",
        "    super(Trainer, self).__init__()\n",
        "    self.exp = exp\n",
        "    os.makedirs(os.path.join(data_cfg.RESULT_PATH, exp), exist_ok=True)\n",
        "    self.train_cfg = train_cfg\n",
        "    self.anchor_cfg = anchor_cfg\n",
        "    self.data_cfg = data_cfg\n",
        "    self.loss_cfg = loss_cfg\n",
        "    self.text_detector = TextDetector(anchor_cfg)\n",
        "    self.device = torch.device('cuda:0' if torch.cuda.is_available() else 'cpu')\n",
        "  \n",
        "  def build_things(self):\n",
        "    train_dataset = FridgeyDataset(self.data_cfg, self.anchor_cfg, mode='train')\n",
        "    test_dataset = FridgeyDataset(self.data_cfg, self.anchor_cfg, mode='test')\n",
        "    self.train_loader = DataLoader(train_dataset, self.data_cfg.BATCH_SIZE, shuffle=True)\n",
        "    self.test_loader = DataLoader(test_dataset, 1, shuffle=False)\n",
        "\n",
        "    self.model = CTPN()\n",
        "    self.model = self.model.to(self.device)\n",
        "    self.freeze_vgg()\n",
        "    self.optimizer = torch.optim.SGD(self.model.parameters(), lr = self.train_cfg.LEARNING_RATE, \\\n",
        "                                     momentum = self.train_cfg.MOMENTUM, weight_decay = self.train_cfg.WEIGHT_DECAY)\n",
        "    self.criterion = MultiBoxLoss(self.loss_cfg, self.anchor_cfg)\n",
        "  \n",
        "  def train_start(self):\n",
        "    tot_iteration = 0\n",
        "    one_epoch_iter = len(self.train_loader)\n",
        "    first_step_iter = self.train_cfg.FIRST_STEP\n",
        "    entire_step_iter = self.train_cfg.SECOND_STEP + first_step_iter\n",
        "    total_epoch = math.ceil(entire_step_iter / one_epoch_iter)\n",
        "\n",
        "    for epoch in range(total_epoch):\n",
        "      loop = tqdm(self.train_loader)\n",
        "      self.model.train()\n",
        "      for idx, batch in enumerate(loop):\n",
        "        img, reg_target, cls_target, _ = batch\n",
        "        predictions = self.model(img.to(self.device))\n",
        "        conf_loss, reg_loss, refine_loss = self.criterion(predictions, reg_target.to(self.device), cls_target.to(self.device))\n",
        "        loss = conf_loss + reg_loss + refine_loss\n",
        "        self.optimizer.zero_grad()\n",
        "        loss.backward()\n",
        "        self.optimizer.step()\n",
        "\n",
        "        loop.set_postfix({\"ITERATION\" : tot_iteration, \"LOSS\" : loss.detach().clone(), \"REG LOSS\" : reg_loss.detach().clone(),\\\n",
        "                          \"REFINE_LOSS\" : refine_loss.detach().clone(), \"CLS_LOSS\": cls_loss.detach().clone()})\n",
        "        tot_iteration += 1\n",
        "        if (tot_iteration == first_step_iter):\n",
        "          for g in self.optimizer.param_groups:\n",
        "            g['lr'] = self.train_cfg.LEARNING_RATE * 0.1\n",
        "        if (tot_iteration == entire_step_iter):\n",
        "          logger.info(\"====Training Iteration Ended====\")\n",
        "        if (tot_iteration + 1) % self.train_cfg.EVAL_STEP == 0:\n",
        "          self.test_model()\n",
        "        if (tot_iteration + 1) % self.train_cfg.SAVE_STEP == 0:\n",
        "          self.save_ckpt(tot_iteration)\n",
        "  \n",
        "  def save_ckpt(self,  iteration):\n",
        "    self.save_dir = os.path.join(self.data_cfg.RESULT_PATH, self.exp, 'model_ckpt')\n",
        "    os.makedirs(self.save_dir, exist_ok=True)\n",
        "    torch.save(self.model, os.path.join(self.save_dir, f\"{iteration}.pth\"))\n",
        "    logger.info(f\"===SAVED {iteration} MODEL WEIGHTS===\")\n",
        "\n",
        "  def test_model(self):\n",
        "    loop = tqdm(self.test_loader)\n",
        "    self.model.eval()\n",
        "    for idx, batch in enumerate(loop):\n",
        "      img, reg_target, cls_target, more_data = batch\n",
        "      predictions = self.model(img.to(self.device))\n",
        "      conf_loss, reg_loss, refine_loss = self.criterion(predictions, reg_target.to(self.device), cls_target.to(self.device))\n",
        "      loss = conf_loss + reg_loss + refine_loss\n",
        "      image_size = (self.data_cfg.IMAGE_H, self.data_cfg.IMAGE_W)\n",
        "\n",
        "      self.save_predictions(predictions, image_size, more_data)\n",
        "\n",
        "      loop.set_postfix({\"EVALUATION ITER\" : idx, \"LOSS\" : loss.detach().clone(), \"REG LOSS\" : reg_loss.detach().clone(),\\\n",
        "                          \"REFINE_LOSS\" : refine_loss.detach().clone(), \"CLS_LOSS\": cls_loss.detach().clone()})\n",
        "      # text_lines, scores = self.text_detector(predictions, image_size)\n",
        "      # iou_score = self.evaluate_iou(predictions, image_size=image_size, gt_textbox = more_data['initial_gtbox'])\n",
        "\n",
        "  def save_predictions(self, predictions, image_size, more_data):\n",
        "    detected_bboxes , _ = self.text_detector(predictions, image_size)\n",
        "    org_image = cv2.imread(more_data['image_dir'])\n",
        "    org_image = cv2.cvtColor(org_image, cv2.COLOR_BGR2RGB)\n",
        "    image_id = more_data['image_dir'].split('/')[-1].split('.')[0]\n",
        "    org_h, org_w, _ = org_image.shape\n",
        "\n",
        "    ratio_w = org_w / image_size[1]\n",
        "    ratio_h = org_h / image_size[0]\n",
        "    size_ = np.array([[ratio_w, ratio_h, ratio_w, ratio_h]])\n",
        "    detected_bboxes *= size_\n",
        "\n",
        "    with open(os.path.join(self.train_cfg.RESULT_PATH,self.exp, image_id, 'txt'), 'w') as f:\n",
        "      for j, coords in enumerate(detected_bboxes):\n",
        "        xmin, ymin, xmax, ymax = coords\n",
        "        w = xmax - xmin\n",
        "        h = ymax-ymin\n",
        "        dw = w * 0.01\n",
        "        dh = h * 0.05\n",
        "        box = [xmin-dw, ymin-dh, xmax+dw, ymax +dh, xmax + dw, ymax + dh, nmin-dw, ymax + dh]\n",
        "        line = \",\".join(str(round(coord)) for coord in box)\n",
        "        line += '\\n'\n",
        "        f.write(line)\n",
        "\n",
        "        drawn_image = cv2.rectangle(org_image, (xmin, ymin), (xmax, ymax), 255, 3)\n",
        "\n",
        "    cv2.imwrite(os.path.join(self.train_cfg.RESULT_PATH, self.exp, image_id, 'png'), drawn_image)\n",
        "\n",
        "\n",
        "  @staticmethod\n",
        "  def evaluate_iou(predictions, image_size, gt_textbox):\n",
        "    bs = predictions.shape[0]\n",
        "    for b in range(bs):\n",
        "      pred = predictions[b]\n",
        "      gt = gt_textbox[b]\n",
        "      # (1) gt text box와 predicted text box의 iou score을 우선적으로 계산을 하고\n",
        "\n",
        "\n",
        "  def freeze_vgg(self):\n",
        "    for name, child in self.model.named_children():\n",
        "      if name  == 'vgg_layers':\n",
        "        cnt=0\n",
        "        for idx, layer in enumerate(child):\n",
        "          if isinstance(layer, nn.Conv2d):\n",
        "            for param in layer.parameters():\n",
        "              param.requires_grad = False\n",
        "            cnt += 1\n",
        "          if cnt == 2:\n",
        "            break"
      ],
      "metadata": {
        "id": "DVT3CSzswh0b"
      },
      "execution_count": 224,
      "outputs": []
    },
    {
      "cell_type": "code",
      "source": [
        "if __name__ == \"__main__\":\n",
        "  EXP_NAME=input()\n",
        "  TRAINER = Trainer(\n",
        "      EXP_NAME, TRAIN_CFG(), ANCHOR_CFG(), DATA_CFG(), LOSS_CFG()\n",
        "  )"
      ],
      "metadata": {
        "id": "V4--swcSpA0Y"
      },
      "execution_count": null,
      "outputs": []
    },
    {
      "cell_type": "markdown",
      "source": [
        "`(10) CTPN Detection Prediction Bot`"
      ],
      "metadata": {
        "id": "j2zorZ0QwtGo"
      }
    },
    {
      "cell_type": "code",
      "source": [
        "import torch\n",
        "import torch.nn as nn\n",
        "import torch.nn.functional as F\n",
        "\n"
      ],
      "metadata": {
        "id": "ZUcOrbh6wymh"
      },
      "execution_count": null,
      "outputs": []
    }
  ]
}